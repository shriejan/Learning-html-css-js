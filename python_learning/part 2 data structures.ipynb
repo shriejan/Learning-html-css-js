{
 "cells": [
  {
   "cell_type": "markdown",
   "metadata": {},
   "source": [
    "<h1>Data structure is used to store multiple values in one variable</h1>"
   ]
  },
  {
   "cell_type": "markdown",
   "metadata": {},
   "source": [
    "<h4>List</h4>"
   ]
  },
  {
   "cell_type": "code",
   "execution_count": 1,
   "metadata": {},
   "outputs": [],
   "source": [
    "numbers = [1,2,3,4,5,6,7,8,9,10]"
   ]
  },
  {
   "cell_type": "code",
   "execution_count": 2,
   "metadata": {},
   "outputs": [],
   "source": [
    "fruits = [\"apple\", \"banana\", \"cherry\"]"
   ]
  },
  {
   "cell_type": "code",
   "execution_count": 3,
   "metadata": {},
   "outputs": [
    {
     "name": "stdout",
     "output_type": "stream",
     "text": [
      "<class 'list'>\n"
     ]
    }
   ],
   "source": [
    "print(type(fruits))"
   ]
  },
  {
   "cell_type": "markdown",
   "metadata": {},
   "source": [
    "<h5> How to get value from list </h5>"
   ]
  },
  {
   "cell_type": "code",
   "execution_count": 6,
   "metadata": {},
   "outputs": [
    {
     "name": "stdout",
     "output_type": "stream",
     "text": [
      "cherry\n"
     ]
    }
   ],
   "source": [
    "# indexing, starts with 0\n",
    "\n",
    "\n",
    "print(fruits[2])\n"
   ]
  },
  {
   "cell_type": "code",
   "execution_count": 8,
   "metadata": {},
   "outputs": [
    {
     "name": "stdout",
     "output_type": "stream",
     "text": [
      "black\n"
     ]
    }
   ],
   "source": [
    "colors = [\"red\", \"green\", \"blue\", \"yellow\", \"orange\", \"white\", \"black\", \"purple\"]\n",
    "\n",
    "print(colors[6])"
   ]
  },
  {
   "cell_type": "code",
   "execution_count": 9,
   "metadata": {},
   "outputs": [],
   "source": [
    "colors = [\n",
    "    \"Red\", \"Blue\", \"Green\", \"Yellow\", \"Orange\", \"Purple\", \"Pink\", \"Brown\",\n",
    "    \"Black\", \"White\", \"Gray\", \"Teal\", \"Turquoise\", \"Maroon\", \"Navy\", \"Olive\",\n",
    "    \"Lime\", \"Coral\", \"Gold\", \"Silver\", \"Beige\", \"Mint\", \"Lavender\"\n",
    "]"
   ]
  },
  {
   "cell_type": "code",
   "execution_count": 10,
   "metadata": {},
   "outputs": [
    {
     "data": {
      "text/plain": [
       "23"
      ]
     },
     "execution_count": 10,
     "metadata": {},
     "output_type": "execute_result"
    }
   ],
   "source": [
    "len(colors)"
   ]
  },
  {
   "cell_type": "code",
   "execution_count": 12,
   "metadata": {},
   "outputs": [
    {
     "name": "stdout",
     "output_type": "stream",
     "text": [
      "Mint\n"
     ]
    }
   ],
   "source": [
    "print(colors[21])"
   ]
  },
  {
   "cell_type": "code",
   "execution_count": 13,
   "metadata": {},
   "outputs": [],
   "source": [
    "colors = [\n",
    "    \"Red\", \"Blue\", \"Green\", \"Yellow\", \"Orange\", \"Purple\", \"Pink\", \"Brown\",\n",
    "    \"Black\", \"White\", \"Gray\", \"Teal\", \"Turquoise\", \"Maroon\", \"Navy\", \"Olive\",\n",
    "    \"Lime\", \"Coral\", \"Gold\", \"Silver\", \"Beige\", \"Mint\", \"Lavender\", \"Cyan\",\n",
    "    \"Magenta\", \"Peach\", \"Aqua\", \"Bronze\", \"Ivory\", \"Cream\", \"Indigo\", \"Violet\",\n",
    "    \"Crimson\", \"Khaki\", \"Mustard\", \"Salmon\", \"Chocolate\", \"Azure\", \"Saffron\",\n",
    "    \"Charcoal\", \"Burgundy\", \"Rust\", \"Amber\", \"Emerald\", \"Periwinkle\", \"Blush\",\n",
    "    \"Lilac\", \"Denim\", \"Plum\", \"Ebony\", \"Sepia\", \"Mint Green\"\n",
    "]"
   ]
  },
  {
   "cell_type": "code",
   "execution_count": 14,
   "metadata": {},
   "outputs": [
    {
     "data": {
      "text/plain": [
       "52"
      ]
     },
     "execution_count": 14,
     "metadata": {},
     "output_type": "execute_result"
    }
   ],
   "source": [
    "len(colors)"
   ]
  },
  {
   "cell_type": "code",
   "execution_count": 16,
   "metadata": {},
   "outputs": [
    {
     "data": {
      "text/plain": [
       "'Sepia'"
      ]
     },
     "execution_count": 16,
     "metadata": {},
     "output_type": "execute_result"
    }
   ],
   "source": [
    "colors[-2]"
   ]
  },
  {
   "cell_type": "code",
   "execution_count": 17,
   "metadata": {},
   "outputs": [
    {
     "data": {
      "text/plain": [
       "'Denim'"
      ]
     },
     "execution_count": 17,
     "metadata": {},
     "output_type": "execute_result"
    }
   ],
   "source": [
    "colors[-5]"
   ]
  },
  {
   "cell_type": "code",
   "execution_count": 18,
   "metadata": {},
   "outputs": [],
   "source": [
    "colors[0] = 'Shriejan'"
   ]
  },
  {
   "cell_type": "code",
   "execution_count": 20,
   "metadata": {},
   "outputs": [
    {
     "data": {
      "text/plain": [
       "['Shriejan',\n",
       " 'Blue',\n",
       " 'Green',\n",
       " 'Yellow',\n",
       " 'Orange',\n",
       " 'Purple',\n",
       " 'Pink',\n",
       " 'Brown',\n",
       " 'Black',\n",
       " 'White',\n",
       " 'Gray',\n",
       " 'Teal',\n",
       " 'Turquoise',\n",
       " 'Maroon',\n",
       " 'Navy',\n",
       " 'Olive',\n",
       " 'Lime',\n",
       " 'Coral',\n",
       " 'Gold',\n",
       " 'Silver',\n",
       " 'Beige',\n",
       " 'Mint',\n",
       " 'Lavender',\n",
       " 'Cyan',\n",
       " 'Magenta',\n",
       " 'Peach',\n",
       " 'Aqua',\n",
       " 'Bronze',\n",
       " 'Ivory',\n",
       " 'Cream',\n",
       " 'Indigo',\n",
       " 'Violet',\n",
       " 'Crimson',\n",
       " 'Khaki',\n",
       " 'Mustard',\n",
       " 'Salmon',\n",
       " 'Chocolate',\n",
       " 'Azure',\n",
       " 'Saffron',\n",
       " 'Charcoal',\n",
       " 'Burgundy',\n",
       " 'Rust',\n",
       " 'Amber',\n",
       " 'Emerald',\n",
       " 'Periwinkle',\n",
       " 'Blush',\n",
       " 'Lilac',\n",
       " 'Denim',\n",
       " 'Plum',\n",
       " 'Ebony',\n",
       " 'Sepia',\n",
       " 'Mint Green']"
      ]
     },
     "execution_count": 20,
     "metadata": {},
     "output_type": "execute_result"
    }
   ],
   "source": [
    "colors"
   ]
  },
  {
   "cell_type": "code",
   "execution_count": 22,
   "metadata": {},
   "outputs": [],
   "source": [
    "colors [-1] = 'mint orange'"
   ]
  },
  {
   "cell_type": "code",
   "execution_count": 26,
   "metadata": {},
   "outputs": [
    {
     "data": {
      "text/plain": [
       "['Denim', 'Plum', 'Ebony', 'Sepia', 'mint orange']"
      ]
     },
     "execution_count": 26,
     "metadata": {},
     "output_type": "execute_result"
    }
   ],
   "source": [
    "colors [-5:]"
   ]
  },
  {
   "cell_type": "code",
   "execution_count": 27,
   "metadata": {},
   "outputs": [
    {
     "data": {
      "text/plain": [
       "['Shriejan',\n",
       " 'Blue',\n",
       " 'Green',\n",
       " 'Yellow',\n",
       " 'Orange',\n",
       " 'Purple',\n",
       " 'Pink',\n",
       " 'Brown',\n",
       " 'Black',\n",
       " 'White']"
      ]
     },
     "execution_count": 27,
     "metadata": {},
     "output_type": "execute_result"
    }
   ],
   "source": [
    "colors[:10]"
   ]
  },
  {
   "cell_type": "code",
   "execution_count": null,
   "metadata": {},
   "outputs": [],
   "source": []
  }
 ],
 "metadata": {
  "kernelspec": {
   "display_name": "Python 3",
   "language": "python",
   "name": "python3"
  },
  "language_info": {
   "codemirror_mode": {
    "name": "ipython",
    "version": 3
   },
   "file_extension": ".py",
   "mimetype": "text/x-python",
   "name": "python",
   "nbconvert_exporter": "python",
   "pygments_lexer": "ipython3",
   "version": "3.11.9"
  }
 },
 "nbformat": 4,
 "nbformat_minor": 2
}
